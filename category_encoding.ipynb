{
 "cells": [
  {
   "cell_type": "code",
   "execution_count": 38,
   "metadata": {},
   "outputs": [
    {
     "name": "stderr",
     "output_type": "stream",
     "text": [
      "/Users/yellow_flash/Library/Python/3.9/lib/python/site-packages/urllib3/__init__.py:34: NotOpenSSLWarning: urllib3 v2.0 only supports OpenSSL 1.1.1+, currently the 'ssl' module is compiled with 'LibreSSL 2.8.3'. See: https://github.com/urllib3/urllib3/issues/3020\n",
      "  warnings.warn(\n"
     ]
    }
   ],
   "source": [
    "import pandas as pd\n",
    "from sklearn.feature_extraction.text import TfidfVectorizer\n",
    "import numpy as np\n",
    "import string\n",
    "import re\n",
    "import nltk\n",
    "from nltk.stem.porter import PorterStemmer\n",
    "from nltk.corpus import stopwords\n",
    "from tqdm import tqdm\n",
    "from collections import defaultdict\n",
    "from gensim.models.word2vec import Word2Vec\n",
    "import gensim.downloader as api"
   ]
  },
  {
   "cell_type": "code",
   "execution_count": 39,
   "metadata": {},
   "outputs": [
    {
     "name": "stderr",
     "output_type": "stream",
     "text": [
      "[nltk_data] Downloading package stopwords to\n",
      "[nltk_data]     /Users/yellow_flash/nltk_data...\n",
      "[nltk_data]   Package stopwords is already up-to-date!\n"
     ]
    }
   ],
   "source": [
    "nltk.download('stopwords')\n",
    "corpus = api.load('text8')  "
   ]
  },
  {
   "cell_type": "code",
   "execution_count": 3,
   "metadata": {},
   "outputs": [],
   "source": [
    "business_file = \"final_business_CA.gzip\""
   ]
  },
  {
   "cell_type": "code",
   "execution_count": 4,
   "metadata": {},
   "outputs": [],
   "source": [
    "business_df = pd.read_pickle(business_file)"
   ]
  },
  {
   "cell_type": "code",
   "execution_count": 11,
   "metadata": {},
   "outputs": [
    {
     "data": {
      "text/plain": [
       "str"
      ]
     },
     "execution_count": 11,
     "metadata": {},
     "output_type": "execute_result"
    }
   ],
   "source": [
    "type(business_df.iloc[0]['categories'])"
   ]
  },
  {
   "cell_type": "code",
   "execution_count": 32,
   "metadata": {},
   "outputs": [],
   "source": [
    "def text_preprocess(categories, category_corpus):\n",
    "    punctuation = set(string.punctuation)\n",
    "    stop_W = stopwords.words(\"english\")\n",
    "    for category in categories.split(\", \"):\n",
    "            r = ''.join([c for c in category.lower() if (not c in punctuation) and c.isalpha()])\n",
    "            if r not in stop_W:\n",
    "                category_corpus[r] += 1"
   ]
  },
  {
   "cell_type": "code",
   "execution_count": 33,
   "metadata": {},
   "outputs": [],
   "source": [
    "category_corpus = defaultdict(int)\n",
    "\n",
    "for idx, df in business_df.iterrows():\n",
    "    text_preprocess(df['categories'], category_corpus)"
   ]
  },
  {
   "cell_type": "code",
   "execution_count": 34,
   "metadata": {},
   "outputs": [
    {
     "data": {
      "text/plain": [
       "251"
      ]
     },
     "execution_count": 34,
     "metadata": {},
     "output_type": "execute_result"
    }
   ],
   "source": [
    "len(category_corpus)"
   ]
  },
  {
   "cell_type": "code",
   "execution_count": 37,
   "metadata": {},
   "outputs": [
    {
     "data": {
      "text/plain": [
       "[('restaurants', 1161),\n",
       " ('food', 403),\n",
       " ('nightlife', 216),\n",
       " ('americannew', 202),\n",
       " ('bars', 200),\n",
       " ('mexican', 189),\n",
       " ('sandwiches', 174),\n",
       " ('breakfastbrunch', 170),\n",
       " ('americantraditional', 144),\n",
       " ('coffeetea', 115),\n",
       " ('pizza', 113),\n",
       " ('burgers', 100),\n",
       " ('seafood', 96),\n",
       " ('cafes', 87),\n",
       " ('italian', 83),\n",
       " ('delis', 83),\n",
       " ('salad', 81),\n",
       " ('eventplanningservices', 80),\n",
       " ('fastfood', 78),\n",
       " ('bakeries', 71),\n",
       " ('cocktailbars', 58),\n",
       " ('specialtyfood', 53),\n",
       " ('winebars', 52),\n",
       " ('beer', 49),\n",
       " ('winespirits', 49),\n",
       " ('chinese', 48),\n",
       " ('desserts', 47),\n",
       " ('caterers', 46),\n",
       " ('japanese', 46),\n",
       " ('vegetarian', 41),\n",
       " ('asianfusion', 40),\n",
       " ('barbeque', 39),\n",
       " ('sushibars', 37),\n",
       " ('vegan', 35),\n",
       " ('glutenfree', 33),\n",
       " ('juicebarssmoothies', 33),\n",
       " ('tacos', 32),\n",
       " ('grocery', 32),\n",
       " ('chickenwings', 30),\n",
       " ('steakhouses', 28),\n",
       " ('french', 27),\n",
       " ('fooddeliveryservices', 26),\n",
       " ('mediterranean', 26),\n",
       " ('artsentertainment', 25),\n",
       " ('tapassmallplates', 24),\n",
       " ('beerbar', 23),\n",
       " ('shopping', 23),\n",
       " ('venueseventspaces', 20),\n",
       " ('sportsbars', 18),\n",
       " ('thai', 18),\n",
       " ('tapasbars', 18),\n",
       " ('diners', 18),\n",
       " ('texmex', 18),\n",
       " ('foodtrucks', 17),\n",
       " ('icecreamfrozenyogurt', 17),\n",
       " ('soup', 16),\n",
       " ('hotelstravel', 15),\n",
       " ('localflavor', 15),\n",
       " ('bubbletea', 14),\n",
       " ('lounges', 14),\n",
       " ('breweries', 13),\n",
       " ('healthmarkets', 13),\n",
       " ('indian', 13),\n",
       " ('farmersmarket', 13),\n",
       " ('latinamerican', 13),\n",
       " ('korean', 13),\n",
       " ('pubs', 13),\n",
       " ('chickenshop', 13),\n",
       " ('hotdogs', 12),\n",
       " ('gastropubs', 12),\n",
       " ('vietnamese', 11),\n",
       " ('wineries', 11),\n",
       " ('bagels', 11),\n",
       " ('noodles', 11),\n",
       " ('hotels', 11),\n",
       " ('popuprestaurants', 11),\n",
       " ('donuts', 11),\n",
       " ('comfortfood', 10),\n",
       " ('fishchips', 10),\n",
       " ('szechuan', 9),\n",
       " ('ramen', 9),\n",
       " ('cajuncreole', 9),\n",
       " ('liverawfood', 8),\n",
       " ('poke', 8),\n",
       " ('musicvenues', 8),\n",
       " ('meatshops', 8),\n",
       " ('activelife', 8),\n",
       " ('greek', 7),\n",
       " ('ethnicfood', 7),\n",
       " ('brewpubs', 7),\n",
       " ('partyeventplanning', 7),\n",
       " ('acaibowls', 7),\n",
       " ('hawaiian', 7),\n",
       " ('winetastingroom', 6),\n",
       " ('spanish', 6),\n",
       " ('soulfood', 6),\n",
       " ('creperies', 6),\n",
       " ('conveniencestores', 6),\n",
       " ('shoppingcenters', 5),\n",
       " ('coffeeroasteries', 5),\n",
       " ('karaoke', 5),\n",
       " ('hotpot', 5),\n",
       " ('organicstores', 5),\n",
       " ('middleeastern', 5),\n",
       " ('cupcakes', 5),\n",
       " ('taiwanese', 5),\n",
       " ('pakistani', 5),\n",
       " ('seafoodmarkets', 5),\n",
       " ('dimsum', 5),\n",
       " ('healthmedical', 5),\n",
       " ('foodstands', 4),\n",
       " ('argentine', 4),\n",
       " ('german', 4),\n",
       " ('newmexicancuisine', 4),\n",
       " ('streetvendors', 4),\n",
       " ('artscrafts', 4),\n",
       " ('danceclubs', 4),\n",
       " ('personalchefs', 4),\n",
       " ('cafeteria', 4),\n",
       " ('buffets', 4),\n",
       " ('beautyspas', 4),\n",
       " ('dayspas', 4),\n",
       " ('festivals', 3),\n",
       " ('foodcourt', 3),\n",
       " ('weddingplanning', 3),\n",
       " ('artgalleries', 3),\n",
       " ('fruitsveggies', 3),\n",
       " ('empanadas', 3),\n",
       " ('doityourselffood', 3),\n",
       " ('cheeseshops', 3),\n",
       " ('tours', 3),\n",
       " ('golf', 3),\n",
       " ('automotive', 3),\n",
       " ('wraps', 3),\n",
       " ('peruvian', 3),\n",
       " ('moderneuropean', 3),\n",
       " ('patisseriecakeshop', 3),\n",
       " ('cuban', 3),\n",
       " ('internationalgrocery', 3),\n",
       " ('gelato', 3),\n",
       " ('professionalservices', 3),\n",
       " ('beergardens', 3),\n",
       " ('homegarden', 2),\n",
       " ('homedecor', 2),\n",
       " ('cookingclasses', 2),\n",
       " ('education', 2),\n",
       " ('drugstores', 2),\n",
       " ('australian', 2),\n",
       " ('tearooms', 2),\n",
       " ('winetours', 2),\n",
       " ('hookahbars', 2),\n",
       " ('flowersgifts', 2),\n",
       " ('florists', 2),\n",
       " ('jazzblues', 2),\n",
       " ('champagnebars', 2),\n",
       " ('homeservices', 2),\n",
       " ('bowling', 2),\n",
       " ('localservices', 2),\n",
       " ('moroccan', 2),\n",
       " ('gasstations', 2),\n",
       " ('pianobars', 2),\n",
       " ('whiskeybars', 2),\n",
       " ('massage', 2),\n",
       " ('resorts', 2),\n",
       " ('belgian', 2),\n",
       " ('british', 2),\n",
       " ('cantonese', 2),\n",
       " ('pastashops', 2),\n",
       " ('southern', 2),\n",
       " ('ethiopian', 2),\n",
       " ('divebars', 2),\n",
       " ('themedcafes', 1),\n",
       " ('pets', 1),\n",
       " ('womensclothing', 1),\n",
       " ('petadoption', 1),\n",
       " ('fashion', 1),\n",
       " ('petsitting', 1),\n",
       " ('accessories', 1),\n",
       " ('petstores', 1),\n",
       " ('petservices', 1),\n",
       " ('religiousorganizations', 1),\n",
       " ('churches', 1),\n",
       " ('clubcrawl', 1),\n",
       " ('coffeeshops', 1),\n",
       " ('cookingschools', 1),\n",
       " ('specialtyschools', 1),\n",
       " ('socialclubs', 1),\n",
       " ('tastingclasses', 1),\n",
       " ('winetastingclasses', 1),\n",
       " ('brazilian', 1),\n",
       " ('boating', 1),\n",
       " ('mongolian', 1),\n",
       " ('speakeasies', 1),\n",
       " ('cheesesteaks', 1),\n",
       " ('importedfood', 1),\n",
       " ('publicservicesgovernment', 1),\n",
       " ('landmarkshistoricalbuildings', 1),\n",
       " ('boattours', 1),\n",
       " ('contractors', 1),\n",
       " ('arcades', 1),\n",
       " ('delicatessen', 1),\n",
       " ('honey', 1),\n",
       " ('souvenirshops', 1),\n",
       " ('wildlifecontrol', 1),\n",
       " ('pestcontrol', 1),\n",
       " ('tuscan', 1),\n",
       " ('basque', 1),\n",
       " ('tabletopgames', 1),\n",
       " ('cannabisclinics', 1),\n",
       " ('shavedice', 1),\n",
       " ('kebab', 1),\n",
       " ('salvadoran', 1),\n",
       " ('panasian', 1),\n",
       " ('foodtours', 1),\n",
       " ('walkingtours', 1),\n",
       " ('falafel', 1),\n",
       " ('hongkongstylecafe', 1),\n",
       " ('skincare', 1),\n",
       " ('fitnessinstruction', 1),\n",
       " ('acupuncture', 1),\n",
       " ('weightlosscenters', 1),\n",
       " ('yoga', 1),\n",
       " ('irish', 1),\n",
       " ('caribbean', 1),\n",
       " ('halal', 1),\n",
       " ('himalayannepalese', 1),\n",
       " ('pharmacy', 1),\n",
       " ('arabic', 1),\n",
       " ('huntingfishingsupplies', 1),\n",
       " ('sportinggoods', 1),\n",
       " ('carwash', 1),\n",
       " ('wholesalers', 1),\n",
       " ('gaybars', 1),\n",
       " ('popupshops', 1),\n",
       " ('persianiranian', 1),\n",
       " ('herbalshops', 1),\n",
       " ('turkish', 1),\n",
       " ('lebanese', 1),\n",
       " ('indonesian', 1),\n",
       " ('personalassistants', 1),\n",
       " ('bocceball', 1),\n",
       " ('triviahosts', 1),\n",
       " ('ethnicgrocery', 1),\n",
       " ('fondue', 1),\n",
       " ('butcher', 1),\n",
       " ('scandinavian', 1),\n",
       " ('healthretreats', 1),\n",
       " ('publicmarkets', 1),\n",
       " ('garagedoorservices', 1),\n",
       " ('keyslocksmiths', 1),\n",
       " ('bartenders', 1)]"
      ]
     },
     "execution_count": 37,
     "metadata": {},
     "output_type": "execute_result"
    }
   ],
   "source": [
    "sorted(category_corpus.items(), key=lambda x: x[1], reverse=True)"
   ]
  },
  {
   "cell_type": "code",
   "execution_count": 40,
   "metadata": {},
   "outputs": [],
   "source": [
    "model = Word2Vec(corpus)"
   ]
  },
  {
   "cell_type": "code",
   "execution_count": 44,
   "metadata": {},
   "outputs": [
    {
     "data": {
      "text/plain": [
       "[('moniz', 0.8392637968063354),\n",
       " ('elio', 0.8273507952690125),\n",
       " ('emmanuelle', 0.8252143263816833),\n",
       " ('choy', 0.8245490193367004),\n",
       " ('maka', 0.8245483636856079),\n",
       " ('tortillas', 0.8241103291511536),\n",
       " ('brie', 0.8239962458610535),\n",
       " ('riso', 0.8229659199714661),\n",
       " ('vasquez', 0.8206657767295837),\n",
       " ('mukherjee', 0.820158064365387)]"
      ]
     },
     "execution_count": 44,
     "metadata": {},
     "output_type": "execute_result"
    }
   ],
   "source": [
    "model.wv.similar_by_word(\"burgers\")"
   ]
  },
  {
   "cell_type": "code",
   "execution_count": null,
   "metadata": {},
   "outputs": [],
   "source": []
  },
  {
   "cell_type": "code",
   "execution_count": null,
   "metadata": {},
   "outputs": [],
   "source": []
  }
 ],
 "metadata": {
  "kernelspec": {
   "display_name": "Python 3",
   "language": "python",
   "name": "python3"
  },
  "language_info": {
   "codemirror_mode": {
    "name": "ipython",
    "version": 3
   },
   "file_extension": ".py",
   "mimetype": "text/x-python",
   "name": "python",
   "nbconvert_exporter": "python",
   "pygments_lexer": "ipython3",
   "version": "3.9.6"
  },
  "orig_nbformat": 4
 },
 "nbformat": 4,
 "nbformat_minor": 2
}
