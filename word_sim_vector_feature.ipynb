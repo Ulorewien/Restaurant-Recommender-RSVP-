{
 "cells": [
  {
   "cell_type": "code",
   "execution_count": 1,
   "metadata": {},
   "outputs": [
    {
     "name": "stderr",
     "output_type": "stream",
     "text": [
      "/Users/yellow_flash/Library/Python/3.9/lib/python/site-packages/urllib3/__init__.py:34: NotOpenSSLWarning: urllib3 v2.0 only supports OpenSSL 1.1.1+, currently the 'ssl' module is compiled with 'LibreSSL 2.8.3'. See: https://github.com/urllib3/urllib3/issues/3020\n",
      "  warnings.warn(\n"
     ]
    }
   ],
   "source": [
    "import pandas as pd\n",
    "from sklearn.feature_extraction.text import TfidfVectorizer\n",
    "import numpy as np\n",
    "import string\n",
    "import re\n",
    "import nltk\n",
    "from nltk.stem.porter import PorterStemmer\n",
    "from nltk.corpus import stopwords\n",
    "from tqdm import tqdm\n",
    "from gensim.models import Word2Vec"
   ]
  },
  {
   "cell_type": "code",
   "execution_count": 2,
   "metadata": {},
   "outputs": [
    {
     "name": "stderr",
     "output_type": "stream",
     "text": [
      "[nltk_data] Downloading package stopwords to\n",
      "[nltk_data]     /Users/yellow_flash/nltk_data...\n",
      "[nltk_data]   Package stopwords is already up-to-date!\n"
     ]
    },
    {
     "data": {
      "text/plain": [
       "True"
      ]
     },
     "execution_count": 2,
     "metadata": {},
     "output_type": "execute_result"
    }
   ],
   "source": [
    "nltk.download('stopwords')"
   ]
  },
  {
   "cell_type": "code",
   "execution_count": 3,
   "metadata": {},
   "outputs": [],
   "source": [
    "model = Word2Vec.load(\"word2vec.model\")"
   ]
  },
  {
   "cell_type": "code",
   "execution_count": 4,
   "metadata": {},
   "outputs": [],
   "source": [
    "business_file = \"final_business_CA.gzip\"\n",
    "reviews_file = \"final_review_CA.gzip\"\n",
    "users_file = \"final_data_user_yelp.gzip\""
   ]
  },
  {
   "cell_type": "code",
   "execution_count": 5,
   "metadata": {},
   "outputs": [],
   "source": [
    "### Do data preprocessing containing dictionary of user, businesses and star ratings\n",
    "reviews_df = pd.read_pickle(reviews_file)"
   ]
  },
  {
   "cell_type": "code",
   "execution_count": 6,
   "metadata": {},
   "outputs": [],
   "source": [
    "users_review_df = reviews_df.groupby('user_id')[['text', 'date']].agg(list).reset_index()\n",
    "business_review_df = reviews_df.groupby('business_id')[['text', 'date']].agg(list).reset_index()"
   ]
  },
  {
   "cell_type": "code",
   "execution_count": 7,
   "metadata": {},
   "outputs": [],
   "source": [
    "def text_preprocess(review):\n",
    "    punctuation = set(string.punctuation)\n",
    "    stemmer = PorterStemmer()\n",
    "    stop_W = stopwords.words(\"english\")\n",
    "    r = ''.join([c for c in review.lower() if (not c in punctuation)])\n",
    "    word_list = []\n",
    "    for w in r.split():\n",
    "        w = stemmer.stem(w)\n",
    "        if (w not in stop_W) and w.isalpha() and (w in model.wv.key_to_index):\n",
    "            word_list.append(w)\n",
    "    return word_list"
   ]
  },
  {
   "cell_type": "code",
   "execution_count": 11,
   "metadata": {},
   "outputs": [],
   "source": [
    "def getSimMatrix(reviews_list):\n",
    "    sim_matrix = []\n",
    "    for review in reviews_list:\n",
    "        tokens = text_preprocess(review)\n",
    "        sim = []\n",
    "        for t in tokens:\n",
    "            sim.append(model.wv[t])\n",
    "        if sim:\n",
    "            sim_array = np.mean(np.array(sim), axis=0)\n",
    "            sim_matrix.append(sim_array)\n",
    "        else:\n",
    "            continue\n",
    "    if sim_matrix:\n",
    "        return np.mean(np.array(sim_matrix), axis=0)\n",
    "    else:\n",
    "        return np.zeros((50,))"
   ]
  },
  {
   "cell_type": "code",
   "execution_count": 12,
   "metadata": {},
   "outputs": [],
   "source": [
    "user_sim_df = {'user_id': [], 'review_w2v': []}\n",
    "business_sim_df = {'business_id': [], 'review_w2v': []}"
   ]
  },
  {
   "cell_type": "code",
   "execution_count": 13,
   "metadata": {},
   "outputs": [
    {
     "name": "stderr",
     "output_type": "stream",
     "text": [
      "106529it [04:03, 437.77it/s]\n"
     ]
    }
   ],
   "source": [
    "for _, df in tqdm(users_review_df.iterrows()):\n",
    "    user_id = df['user_id']\n",
    "    user_corpus = df['text']\n",
    "    user_w2v = getSimMatrix(user_corpus)\n",
    "    user_sim_df['user_id'].append(user_id)\n",
    "    user_sim_df['review_w2v'].append(user_w2v)"
   ]
  },
  {
   "cell_type": "code",
   "execution_count": 14,
   "metadata": {},
   "outputs": [
    {
     "name": "stderr",
     "output_type": "stream",
     "text": [
      "0it [00:00, ?it/s]"
     ]
    },
    {
     "name": "stderr",
     "output_type": "stream",
     "text": [
      "1161it [03:57,  4.90it/s]\n"
     ]
    }
   ],
   "source": [
    "for _, df in tqdm(business_review_df.iterrows()):\n",
    "    business_id = df['business_id']\n",
    "    business_corpus = df['text']\n",
    "    business_w2v = getSimMatrix(business_corpus)\n",
    "    business_sim_df['business_id'].append(business_id)\n",
    "    business_sim_df['review_w2v'].append(business_w2v)"
   ]
  },
  {
   "cell_type": "code",
   "execution_count": 15,
   "metadata": {},
   "outputs": [],
   "source": [
    "user_sim_df = pd.DataFrame(user_sim_df)\n",
    "business_sim_df = pd.DataFrame(business_sim_df)"
   ]
  },
  {
   "cell_type": "code",
   "execution_count": 16,
   "metadata": {},
   "outputs": [],
   "source": [
    "user_sim_df.to_pickle(\"user_w2v_summary.gzip\")\n",
    "business_sim_df.to_pickle(\"business_w2v_summary.gzip\")"
   ]
  },
  {
   "cell_type": "code",
   "execution_count": 186,
   "metadata": {},
   "outputs": [],
   "source": [
    "w2v_df = {'user_id': [], 'business_id': [], 'w2v_hours_matrix': [], 'ratings': []}"
   ]
  },
  {
   "cell_type": "code",
   "execution_count": 188,
   "metadata": {},
   "outputs": [
    {
     "name": "stderr",
     "output_type": "stream",
     "text": [
      "2101it [00:59, 37.25it/s]/var/folders/rd/1wqnsccd7yv7906kcv9tdzbc0000gn/T/ipykernel_54550/4096299060.py:7: RuntimeWarning: divide by zero encountered in divide\n",
      "  similarity_matrix = (user_w2v @ business_w2v.T) / (np.linalg.norm(user_w2v) * np.linalg.norm(business_w2v))\n",
      "/var/folders/rd/1wqnsccd7yv7906kcv9tdzbc0000gn/T/ipykernel_54550/4096299060.py:7: RuntimeWarning: invalid value encountered in divide\n",
      "  similarity_matrix = (user_w2v @ business_w2v.T) / (np.linalg.norm(user_w2v) * np.linalg.norm(business_w2v))\n",
      "211748it [1:44:48, 33.67it/s]\n"
     ]
    }
   ],
   "source": [
    "for idx, df in tqdm(reviews_df.iterrows()):\n",
    "    user_id = df['user_id']\n",
    "    business_id = df['business_id']\n",
    "    user_w2v = np.array(user_sim_df[user_sim_df['user_id'] == user_id]['review_w2v'].tolist()[0])\n",
    "    business_w2v = np.array(business_sim_df[business_sim_df['business_id'] == business_id]['review_w2v'].tolist()[0])\n",
    "    \n",
    "    similarity_matrix = (user_w2v @ business_w2v.T) / (np.linalg.norm(user_w2v) * np.linalg.norm(business_w2v))\n",
    "    user_review_hours = [(pd.Timestamp.now() - timestamp) / pd.Timedelta(days=1) for timestamp in\n",
    "                         users_review_df[users_review_df['user_id'] == user_id]['date'].tolist()[0]]\n",
    "    business_review_hours = [(pd.Timestamp.now() - timestamp) / pd.Timedelta(days=1) for timestamp in\n",
    "                            business_review_df[business_review_df['business_id'] == business_id]['date'].tolist()[0]]\n",
    "    hours_array = np.transpose([np.tile(user_review_hours, len(business_review_hours)),\n",
    "                                np.repeat(business_review_hours, len(user_review_hours))]).reshape((len(user_review_hours), len(business_review_hours), 2))\n",
    "    hours_array = 1 / (1 - np.exp(-0.5 * np.log10(hours_array.reshape(-1, 2))))\n",
    "    hours_array = hours_array[:, 0] * hours_array[:, 1]\n",
    "    w2v_feature = similarity_matrix.reshape(-1,) * hours_array\n",
    "    w2v_feature = np.array(sorted(w2v_feature, key=lambda x: np.abs(x))[-10:])\n",
    "    final_w2v_feature = np.zeros((10,))\n",
    "    final_w2v_feature[:min(10, w2v_feature.shape[0]),] = w2v_feature\n",
    "    w2v_df[\"user_id\"].append(user_id)\n",
    "    w2v_df[\"business_id\"].append(business_id)\n",
    "    w2v_df[\"w2v_hours_matrix\"].append(final_w2v_feature)\n",
    "    w2v_df['ratings'].append(df['stars'])"
   ]
  },
  {
   "cell_type": "code",
   "execution_count": 190,
   "metadata": {},
   "outputs": [],
   "source": [
    "w2v_df = pd.DataFrame(w2v_df)"
   ]
  },
  {
   "cell_type": "code",
   "execution_count": 175,
   "metadata": {},
   "outputs": [],
   "source": [
    "w2v_df[:50000].to_pickle(\"final_w2v1.gzip\")"
   ]
  },
  {
   "cell_type": "code",
   "execution_count": 176,
   "metadata": {},
   "outputs": [],
   "source": [
    "w2v_df[50000:100000].to_pickle(\"final_w2v2.gzip\")"
   ]
  },
  {
   "cell_type": "code",
   "execution_count": 177,
   "metadata": {},
   "outputs": [],
   "source": [
    "w2v_df[100000:150000].to_pickle(\"final_w2v3.gzip\")"
   ]
  },
  {
   "cell_type": "code",
   "execution_count": 178,
   "metadata": {},
   "outputs": [],
   "source": [
    "w2v_df[150000:].to_pickle(\"final_w2v4.gzip\")"
   ]
  },
  {
   "cell_type": "code",
   "execution_count": 183,
   "metadata": {},
   "outputs": [
    {
     "data": {
      "text/plain": [
       "[array([0.03524676, 0.03560305, 0.03573325, 0.03595728, 0.03678525,\n",
       "        0.03690095, 0.03740086, 0.0374249 , 0.03798524, 0.03809069]),\n",
       " array([0.0499155 , 0.05004904, 0.05013211, 0.05112213, 0.05139826,\n",
       "        0.05142818, 0.05224272, 0.05244588, 0.05287784, 0.05312572])]"
      ]
     },
     "execution_count": 183,
     "metadata": {},
     "output_type": "execute_result"
    }
   ],
   "source": [
    "w2v_df[2099:2101].w2v_hours_matrix.tolist()"
   ]
  },
  {
   "cell_type": "code",
   "execution_count": 184,
   "metadata": {},
   "outputs": [
    {
     "data": {
      "text/plain": [
       "211748"
      ]
     },
     "execution_count": 184,
     "metadata": {},
     "output_type": "execute_result"
    }
   ],
   "source": [
    "len(w2v_df)"
   ]
  },
  {
   "cell_type": "code",
   "execution_count": 191,
   "metadata": {},
   "outputs": [],
   "source": [
    "w2v_df.to_pickle(\"final_w2v_features2.gzip\")"
   ]
  },
  {
   "cell_type": "code",
   "execution_count": 192,
   "metadata": {},
   "outputs": [
    {
     "data": {
      "text/plain": [
       "211748"
      ]
     },
     "execution_count": 192,
     "metadata": {},
     "output_type": "execute_result"
    }
   ],
   "source": [
    "len(w2v_df)"
   ]
  },
  {
   "cell_type": "code",
   "execution_count": 206,
   "metadata": {},
   "outputs": [
    {
     "data": {
      "text/plain": [
       "[0.06879029730030624,\n",
       " 0.07007109978941706,\n",
       " 0.07328369822735556,\n",
       " 0.07372292681640114,\n",
       " 0.07434763562707646,\n",
       " 0.07570043775457312,\n",
       " 0.07810570014459159,\n",
       " 0.0861519620202005,\n",
       " 0.08724020138603725,\n",
       " 0.09981738713681183]"
      ]
     },
     "execution_count": 206,
     "metadata": {},
     "output_type": "execute_result"
    }
   ],
   "source": [
    "w2v_df.iloc[100000]['w2v_hours_matrix'].tolist()"
   ]
  },
  {
   "cell_type": "code",
   "execution_count": null,
   "metadata": {},
   "outputs": [],
   "source": []
  }
 ],
 "metadata": {
  "kernelspec": {
   "display_name": "Python 3",
   "language": "python",
   "name": "python3"
  },
  "language_info": {
   "codemirror_mode": {
    "name": "ipython",
    "version": 3
   },
   "file_extension": ".py",
   "mimetype": "text/x-python",
   "name": "python",
   "nbconvert_exporter": "python",
   "pygments_lexer": "ipython3",
   "version": "3.9.6"
  },
  "orig_nbformat": 4
 },
 "nbformat": 4,
 "nbformat_minor": 2
}
