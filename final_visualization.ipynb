{
 "cells": [
  {
   "cell_type": "code",
   "execution_count": null,
   "metadata": {},
   "outputs": [],
   "source": [
    "from collections import defaultdict\n",
    "import pandas as pd\n",
    "import plotly.graph_objects as go\n",
    "import matplotlib.pyplot as plt\n",
    "import numpy as np\n",
    "import string, nltk\n",
    "from nltk.corpus import stopwords\n",
    "from wordcloud import WordCloud\n",
    "import plotly.express as px\n",
    "from nltk.sentiment import SentimentIntensityAnalyzer\n",
    "from nltk import bigrams, ngrams, word_tokenize"
   ]
  },
  {
   "cell_type": "code",
   "execution_count": null,
   "metadata": {},
   "outputs": [],
   "source": [
    "restaurant_file = \"final_data_restaurant_yelp.gzip\"\n",
    "user_file = \"final_data_user_yelp.gzip\"\n",
    "review_file = \"final_data_review_yelp-001.gzip\""
   ]
  },
  {
   "cell_type": "code",
   "execution_count": null,
   "metadata": {},
   "outputs": [],
   "source": [
    "restaurant_data = pd.read_pickle(restaurant_file)\n",
    "user_data = pd.read_pickle(user_file)\n",
    "review_data = pd.read_pickle(review_file)"
   ]
  },
  {
   "cell_type": "markdown",
   "metadata": {},
   "source": [
    "4) Scatter plot for number fans of a user vs average rating"
   ]
  },
  {
   "cell_type": "code",
   "execution_count": null,
   "metadata": {},
   "outputs": [],
   "source": [
    "# Average rating given by a user\n",
    "avg_rating_df = pd.DataFrame(review_data[[\"user_id\", \"stars\"]].groupby(\"user_id\").mean()).reset_index()\n",
    "avg_rating_df.head()"
   ]
  },
  {
   "cell_type": "code",
   "execution_count": null,
   "metadata": {},
   "outputs": [],
   "source": [
    "# Merge with fans and useful reviews\n",
    "merged_df = avg_rating_df.merge(user_data[[\"user_id\", \"useful\", \"fans\"]], on=\"user_id\")\n",
    "merged_df.head()"
   ]
  },
  {
   "cell_type": "code",
   "execution_count": null,
   "metadata": {},
   "outputs": [],
   "source": [
    "plt.scatter(merged_df[\"stars\"].to_numpy(), merged_df[\"fans\"].to_numpy()/1000)\n",
    "# plt.title(\"Fan Analysis for Users\")\n",
    "plt.ylabel(\"Number of fans\")\n",
    "plt.xlabel(\"Average Rating\")\n",
    "plt.show()"
   ]
  },
  {
   "cell_type": "code",
   "execution_count": null,
   "metadata": {},
   "outputs": [],
   "source": [
    "# Average rating per restaurant\n",
    "avg_rating_df = pd.DataFrame(review_data[[\"business_id\", \"stars\"]].groupby(\"business_id\").mean()).reset_index()\n",
    "avg_rating_df.head()"
   ]
  },
  {
   "cell_type": "code",
   "execution_count": null,
   "metadata": {},
   "outputs": [],
   "source": [
    "# Get no. of fans\n",
    "merged_df = pd.merge(avg_rating_df, review_data[[\"business_id\",\"user_id\"]], on=\"business_id\")\n",
    "merged_df = pd.merge(merged_df, user_data[[\"user_id\", \"fans\"]], on=\"user_id\")\n",
    "merged_df = merged_df.groupby(\"business_id\").agg({\"stars\":\"first\", \"fans\":\"sum\"}).reset_index()\n",
    "merged_df.head()"
   ]
  },
  {
   "cell_type": "code",
   "execution_count": null,
   "metadata": {},
   "outputs": [],
   "source": [
    "plt.scatter(merged_df[\"fans\"].to_numpy(), merged_df[\"stars\"].to_numpy())\n",
    "# plt.title(\"Fan Analysis for Users\", fontsize=20)\n",
    "plt.xlabel(\"Number of fans\", fontsize=15)\n",
    "plt.ylabel(\"Average Rating\", fontsize=15)\n",
    "plt.xticks(fontsize=10)\n",
    "plt.yticks(fontsize=10)\n",
    "plt.savefig(\"fan_analysis.jpg\")\n",
    "plt.show()"
   ]
  },
  {
   "cell_type": "markdown",
   "metadata": {},
   "source": [
    "5) Scatter plot for number of userful reviews of a user vs average rating"
   ]
  },
  {
   "cell_type": "code",
   "execution_count": null,
   "metadata": {},
   "outputs": [],
   "source": [
    "# Get useful reviews\n",
    "merged_df = pd.merge(avg_rating_df, review_data[[\"business_id\",\"user_id\"]], on=\"business_id\")\n",
    "merged_df = pd.merge(merged_df, user_data[[\"user_id\", \"useful\"]], on=\"user_id\")\n",
    "merged_df = merged_df.groupby(\"business_id\").agg({\"stars\":\"first\", \"useful\":\"sum\"}).reset_index()\n",
    "merged_df.head()"
   ]
  },
  {
   "cell_type": "code",
   "execution_count": null,
   "metadata": {},
   "outputs": [],
   "source": [
    "plt.scatter(merged_df[\"useful\"].to_numpy(), merged_df[\"stars\"].to_numpy())\n",
    "# plt.title(\"Useful Reviews by Users\", fontsize=20)\n",
    "plt.xlabel(\"Number of Useful Reviews\", fontsize=15)\n",
    "plt.ylabel(\"Average Rating\", fontsize=15)\n",
    "plt.xticks(fontsize=10)\n",
    "plt.yticks(fontsize=10)\n",
    "plt.savefig(\"useful_reviews.jpg\")\n",
    "plt.show()"
   ]
  },
  {
   "cell_type": "markdown",
   "metadata": {},
   "source": [
    "2) Table for data stats - All states, Just CA\n",
    "\tNumber of Reviews\n",
    "\tNumber of users\n",
    "\tNumber of Business\n",
    "\tNumber of categories"
   ]
  },
  {
   "cell_type": "code",
   "execution_count": null,
   "metadata": {},
   "outputs": [],
   "source": [
    "restaurant_data.shape, user_data.shape, review_data.shape"
   ]
  },
  {
   "cell_type": "code",
   "execution_count": null,
   "metadata": {},
   "outputs": [],
   "source": [
    "categories_df = pd.DataFrame(restaurant_data[\"categories\"], columns = [\"categories\"])\n",
    "categories_df[\"categories\"] = categories_df[\"categories\"].str.split(\", \")\n",
    "categories_df = categories_df.explode([\"categories\"])\n",
    "len(categories_df[\"categories\"].unique())"
   ]
  },
  {
   "cell_type": "code",
   "execution_count": null,
   "metadata": {},
   "outputs": [],
   "source": [
    "ca_rest = restaurant_data.loc[restaurant_data[\"state\"] == \"CA\"]\n",
    "ca_rest.shape"
   ]
  },
  {
   "cell_type": "code",
   "execution_count": null,
   "metadata": {},
   "outputs": [],
   "source": [
    "merged_df = ca_rest.merge(review_data, on=\"business_id\")\n",
    "merged_df.head()"
   ]
  },
  {
   "cell_type": "code",
   "execution_count": null,
   "metadata": {},
   "outputs": [],
   "source": [
    "merged_df.shape"
   ]
  },
  {
   "cell_type": "code",
   "execution_count": null,
   "metadata": {},
   "outputs": [],
   "source": [
    "len(merged_df[\"user_id\"].unique())"
   ]
  },
  {
   "cell_type": "code",
   "execution_count": null,
   "metadata": {},
   "outputs": [],
   "source": [
    "# categories_df = pd.DataFrame(merged_df[\"categories\"], columns = [\"categories\"])\n",
    "categories_df[\"categories\"] = merged_df[\"categories\"].str.split(\", \")\n",
    "categories_df = categories_df.explode([\"categories\"])\n",
    "len(categories_df[\"categories\"].unique())"
   ]
  },
  {
   "cell_type": "markdown",
   "metadata": {},
   "source": [
    "1) Word cluster/unigram/bigram/trigram - Top positive, top negative"
   ]
  },
  {
   "cell_type": "code",
   "execution_count": null,
   "metadata": {},
   "outputs": [],
   "source": [
    "# Perform sentiment analysis using VADER\n",
    "sid = SentimentIntensityAnalyzer()\n",
    "merged_df['compound'] = merged_df['text'].apply(lambda x: sid.polarity_scores(x)['compound'])\n",
    "\n",
    "# Classify as positive or negative based on compound score\n",
    "merged_df['sentiment'] = merged_df['compound'].apply(lambda x: 'positive' if x >= 0 else 'negative')\n",
    "\n",
    "# Filter reviews for positive and negative sentiments\n",
    "positive_reviews = ' '.join(merged_df[merged_df['sentiment'] == 'positive']['text'])\n",
    "negative_reviews = ' '.join(merged_df[merged_df['sentiment'] == 'negative']['text'])\n",
    "\n",
    "# Generate WordCloud for positive reviews\n",
    "wordcloud_positive = WordCloud(width=800, height=400, background_color='white').generate(positive_reviews)\n",
    "plt.figure(figsize=(10, 5))\n",
    "plt.imshow(wordcloud_positive, interpolation='bilinear')\n",
    "plt.title('WordCloud for Positive Reviews', fontsize=20)\n",
    "plt.axis('off')\n",
    "plt.savefig(\"pos_uni.jpg\")\n",
    "plt.show()"
   ]
  },
  {
   "cell_type": "code",
   "execution_count": null,
   "metadata": {},
   "outputs": [],
   "source": [
    "# Generate WordCloud for negative reviews\n",
    "wordcloud_negative = WordCloud(width=800, height=400, background_color='white').generate(negative_reviews)\n",
    "plt.figure(figsize=(10, 5))\n",
    "plt.imshow(wordcloud_negative, interpolation='bilinear')\n",
    "plt.title('WordCloud for Negative Reviews', fontsize=20)\n",
    "plt.axis('off')\n",
    "plt.savefig(\"neg_uni.jpg\")\n",
    "plt.show()"
   ]
  },
  {
   "cell_type": "code",
   "execution_count": null,
   "metadata": {},
   "outputs": [],
   "source": [
    "import re\n",
    "merged_df['cleaned_text'] = merged_df['text'].apply(lambda x: re.sub(r'[^\\x00-\\x7F]+', ' ', x))\n",
    "\n",
    "positive_reviews = ' '.join(merged_df[merged_df['sentiment'] == 'positive']['cleaned_text'])\n",
    "negative_reviews = ' '.join(merged_df[merged_df['sentiment'] == 'negative']['cleaned_text'])"
   ]
  },
  {
   "cell_type": "code",
   "execution_count": null,
   "metadata": {},
   "outputs": [],
   "source": [
    "# Tokenize and extract bigrams for positive and negative reviews\n",
    "positive_reviews_bigrams = list(bigrams(word_tokenize(positive_reviews.split())))\n",
    "negative_reviews_bigrams = list(bigrams(word_tokenize(negative_reviews.split())))\n",
    "\n",
    "# Generate WordCloud for positive bigrams\n",
    "wordcloud_positive_bigrams = WordCloud(width=800, height=400, background_color='white').generate_from_frequencies(dict(positive_reviews_bigrams))\n",
    "plt.figure(figsize=(10, 5))\n",
    "plt.imshow(wordcloud_positive_bigrams, interpolation='bilinear')\n",
    "plt.title('Bigram WordCloud for Positive Reviews')\n",
    "plt.axis('off')\n",
    "plt.savefig(\"pos_bi.jpg\")\n",
    "plt.show()"
   ]
  },
  {
   "cell_type": "code",
   "execution_count": null,
   "metadata": {},
   "outputs": [],
   "source": [
    "# Generate WordCloud for negative bigrams\n",
    "wordcloud_negative_bigrams = WordCloud(width=800, height=400, background_color='white').generate_from_frequencies(dict(negative_reviews_bigrams))\n",
    "plt.figure(figsize=(10, 5))\n",
    "plt.imshow(wordcloud_negative_bigrams, interpolation='bilinear')\n",
    "plt.title('Bigram WordCloud for Negative Reviews')\n",
    "plt.axis('off')\n",
    "plt.savefig(\"neg_bi.jpg\")\n",
    "plt.show()"
   ]
  },
  {
   "cell_type": "code",
   "execution_count": null,
   "metadata": {},
   "outputs": [],
   "source": [
    "# Tokenize and extract trigrams for positive and negative reviews\n",
    "positive_reviews_trigrams = list(ngrams(' '.join(merged_df[merged_df['sentiment'] == 'positive']['text']).split(), 3))\n",
    "negative_reviews_trigrams = list(ngrams(' '.join(merged_df[merged_df['sentiment'] == 'negative']['text']).split(), 3))\n",
    "\n",
    "# Generate WordCloud for positive trigrams\n",
    "wordcloud_positive_trigrams = WordCloud(width=800, height=400, background_color='white').generate_from_frequencies(dict(positive_reviews_trigrams))\n",
    "plt.figure(figsize=(10, 5))\n",
    "plt.imshow(wordcloud_positive_trigrams, interpolation='bilinear')\n",
    "plt.title('Trigram WordCloud for Positive Reviews')\n",
    "plt.axis('off')\n",
    "plt.savefig(\"pos_tri.jpg\")\n",
    "plt.show()"
   ]
  },
  {
   "cell_type": "code",
   "execution_count": null,
   "metadata": {},
   "outputs": [],
   "source": [
    "# Generate WordCloud for negative trigrams\n",
    "wordcloud_negative_trigrams = WordCloud(width=800, height=400, background_color='white').generate_from_frequencies(dict(negative_reviews_trigrams))\n",
    "plt.figure(figsize=(10, 5))\n",
    "plt.imshow(wordcloud_negative_trigrams, interpolation='bilinear')\n",
    "plt.title('Trigram WordCloud for Negative Reviews')\n",
    "plt.axis('off')\n",
    "plt.savefig(\"neg_tri.jpg\")\n",
    "plt.show()"
   ]
  }
 ],
 "metadata": {
  "kernelspec": {
   "display_name": "Python 3",
   "language": "python",
   "name": "python3"
  },
  "language_info": {
   "codemirror_mode": {
    "name": "ipython",
    "version": 3
   },
   "file_extension": ".py",
   "mimetype": "text/x-python",
   "name": "python",
   "nbconvert_exporter": "python",
   "pygments_lexer": "ipython3",
   "version": "3.10.11"
  }
 },
 "nbformat": 4,
 "nbformat_minor": 2
}
