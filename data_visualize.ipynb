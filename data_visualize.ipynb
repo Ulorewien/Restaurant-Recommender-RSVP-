{
 "cells": [
  {
   "cell_type": "code",
   "execution_count": null,
   "metadata": {},
   "outputs": [],
   "source": [
    "from collections import defaultdict\n",
    "import pandas as pd\n",
    "import plotly.graph_objects as go\n",
    "import matplotlib.pyplot as plt\n",
    "import numpy as np\n",
    "import string, nltk\n",
    "from nltk.corpus import stopwords\n",
    "from wordcloud import WordCloud\n",
    "import plotly.express as px"
   ]
  },
  {
   "cell_type": "code",
   "execution_count": null,
   "metadata": {},
   "outputs": [],
   "source": [
    "restaurant_file = \"final_data_restaurant_yelp.gzip\"\n",
    "user_file = \"final_data_user_yelp.gzip\"\n",
    "review_file = \"final_data_review_yelp-001.gzip\""
   ]
  },
  {
   "cell_type": "code",
   "execution_count": null,
   "metadata": {},
   "outputs": [],
   "source": [
    "restaurant_data = pd.read_pickle(restaurant_file)\n",
    "user_data = pd.read_pickle(user_file)\n",
    "review_data = pd.read_pickle(review_file)"
   ]
  },
  {
   "cell_type": "markdown",
   "metadata": {},
   "source": []
  },
  {
   "cell_type": "markdown",
   "metadata": {},
   "source": [
    "Fan Analysis"
   ]
  },
  {
   "cell_type": "code",
   "execution_count": null,
   "metadata": {},
   "outputs": [],
   "source": [
    "# Get 5 users with the most fans\n",
    "top_5_users_df = user_data.nlargest(5, \"fans\")\n",
    "top_5_users_df"
   ]
  },
  {
   "cell_type": "code",
   "execution_count": null,
   "metadata": {},
   "outputs": [],
   "source": [
    "# Review data for top 5 users\n",
    "top_5_users_df1 = review_data.loc[review_data[\"user_id\"].isin(top_5_users_df[\"user_id\"].to_numpy())]\n",
    "top_5_users_df1.head(1)"
   ]
  },
  {
   "cell_type": "code",
   "execution_count": null,
   "metadata": {},
   "outputs": [],
   "source": [
    "# Global average rating of restaurants\n",
    "rest_global_avg = restaurant_data[\"stars\"].mean(axis=0)\n",
    "rest_global_avg"
   ]
  },
  {
   "cell_type": "code",
   "execution_count": null,
   "metadata": {},
   "outputs": [],
   "source": [
    "ratings = []\n",
    "for i, d in top_5_users_df1.iterrows():\n",
    "    if (d[\"stars\"] < rest_global_avg) and (restaurant_data.loc[restaurant_data[\"business_id\"] == d[\"business_id\"], \"stars\"].item() < rest_global_avg):\n",
    "        ratings.append(1)\n",
    "    elif (d[\"stars\"] > rest_global_avg) and (restaurant_data.loc[restaurant_data[\"business_id\"] == d[\"business_id\"], \"stars\"].item() > rest_global_avg):\n",
    "        ratings.append(1)\n",
    "    else:\n",
    "        ratings.append(0)\n",
    "sum(ratings)/len(ratings) # Accuracy"
   ]
  },
  {
   "cell_type": "markdown",
   "metadata": {},
   "source": []
  },
  {
   "cell_type": "markdown",
   "metadata": {},
   "source": [
    "Restaurant analysis for all states"
   ]
  },
  {
   "cell_type": "code",
   "execution_count": null,
   "metadata": {},
   "outputs": [],
   "source": [
    "restaurant_data = restaurant_data.reset_index()\n",
    "restaurant_data = restaurant_data[[\"business_id\", \"name\", \"city\", \"state\",\n",
    "       \"latitude\", \"longitude\", \"stars\", \"review_count\", \"categories\"]]\n",
    "restaurant_data.head(1)"
   ]
  },
  {
   "cell_type": "code",
   "execution_count": null,
   "metadata": {},
   "outputs": [],
   "source": [
    "rest = restaurant_data.groupby(\"state\").size()\n",
    "rest"
   ]
  },
  {
   "cell_type": "code",
   "execution_count": null,
   "metadata": {},
   "outputs": [],
   "source": [
    "lat = defaultdict(list)\n",
    "lon = defaultdict(list)\n",
    "ct = defaultdict(int)\n",
    "for i,d in restaurant_data.iterrows():\n",
    "    s = d[\"state\"]\n",
    "    lat[s].append(d[\"latitude\"])\n",
    "    lon[s].append(d[\"longitude\"])\n",
    "    ct[s] += 1\n"
   ]
  },
  {
   "cell_type": "code",
   "execution_count": null,
   "metadata": {},
   "outputs": [],
   "source": [
    "temp = []\n",
    "for s in ct:\n",
    "    temp.append([sum(lat[s])/len(lat[s]), sum(lon[s])/len(lon[s]), ct[s]])"
   ]
  },
  {
   "cell_type": "code",
   "execution_count": null,
   "metadata": {},
   "outputs": [],
   "source": [
    "import folium\n",
    "\n",
    "from folium.plugins import HeatMap\n",
    "\n",
    "map_obj = folium.Map(location = [38.27312, -98.5821872], zoom_start = 5)\n",
    "\n",
    "\n",
    "lats_longs = [\n",
    "                [38.27312, -98.5821872, 0.5], # Kansas\n",
    "                [34.395342, -111.763275,0.2], # Arizona\n",
    "                [37.5726028, -85.1551411, 0.7], # Kentucky\n",
    "                [32.3293809, -83.1137366,0.9], # Georgia\n",
    "                [40.0796606, -89.4337288,0.1], # Illinois\n",
    "            ]\n",
    "\n",
    "\n",
    "HeatMap(temp).add_to(map_obj)\n",
    "\n",
    "map_obj"
   ]
  },
  {
   "cell_type": "code",
   "execution_count": null,
   "metadata": {},
   "outputs": [],
   "source": [
    "# Plot Pie Chart\n",
    "def plot_pie_chart(values, labels, title=\"\", path=\"\"):\n",
    "    fig = plt.subplots(figsize=(8, 8))\n",
    "    plt.pie(values, labels = labels)\n",
    "    # plt.title(title, fontsize=20)\n",
    "    if path:\n",
    "        plt.savefig(path, bbox_inches = 'tight')\n",
    "    plt.show()\n",
    "\n",
    "# Plot Bar Graph\n",
    "def plot_bar_graph(values, labels, title=\"\", xlabel=\"\", ylabel=\"\", angle=0, path=\"\"):\n",
    "    fig = plt.subplots(figsize=(8, 5))\n",
    "    plt.bar(labels, values, color=\"purple\")\n",
    "    # plt.title(title, fontsize=20)\n",
    "    plt.xlabel(xlabel, fontsize=15)\n",
    "    plt.ylabel(ylabel, fontsize=15)\n",
    "    plt.xticks(rotation=angle)\n",
    "    if path:\n",
    "        plt.savefig(path, bbox_inches = 'tight')\n",
    "    plt.show()\n",
    "\n",
    "# Plot Bar Graph\n",
    "def plot_barh_graph(values, labels, title=\"\", xlabel=\"\", ylabel=\"\", angle=0, path=\"\"):\n",
    "    fig = plt.subplots(figsize=(8, 5))\n",
    "    plt.barh(labels, values, color='#7eb54e')\n",
    "    # plt.title(title, fontsize=20)\n",
    "    plt.ylabel(xlabel, fontsize=15)\n",
    "    plt.xlabel(ylabel, fontsize=15)\n",
    "    # plt.xticks(rotation=angle)\n",
    "    if path:\n",
    "        plt.savefig(path, bbox_inches = 'tight')\n",
    "    plt.show()"
   ]
  },
  {
   "cell_type": "code",
   "execution_count": null,
   "metadata": {},
   "outputs": [],
   "source": [
    "restaurants_per_state = defaultdict(set)\n",
    "rating_per_state = defaultdict(list)\n",
    "reviews_per_state = defaultdict(int)\n",
    "\n",
    "for i, d in restaurant_data.iterrows():\n",
    "    s = d[\"state\"]\n",
    "    r = d[\"business_id\"]\n",
    "    rating = d[\"stars\"]\n",
    "    rc = d[\"review_count\"]\n",
    "    restaurants_per_state[s].add(r)\n",
    "    rating_per_state[s].append(rating)\n",
    "    reviews_per_state[s] += rc"
   ]
  },
  {
   "cell_type": "code",
   "execution_count": null,
   "metadata": {},
   "outputs": [],
   "source": [
    "# These states have only 1 restaurant => Combine them together\n",
    "for s in [\"NC\",\"CO\",\"HI\",\"MT\",\"XMS\"]:\n",
    "    restaurants_per_state[\"Other\"].add(i for i in restaurants_per_state.pop(s))\n",
    "\n",
    "num_rest = [len(restaurants_per_state[s]) for s in restaurants_per_state]"
   ]
  },
  {
   "cell_type": "code",
   "execution_count": null,
   "metadata": {},
   "outputs": [],
   "source": [
    "# Pie chart for number of restaurants per state\n",
    "plot_pie_chart(num_rest, restaurants_per_state.keys(), \"Percentage of Restaurants per State\")"
   ]
  },
  {
   "cell_type": "code",
   "execution_count": null,
   "metadata": {},
   "outputs": [],
   "source": [
    "# Bar graph for number of restaurants per state\n",
    "plot_bar_graph(num_rest, restaurants_per_state.keys(), \"Number of Restaurants per State\", \"State\", \"No. of Restaurants\")"
   ]
  },
  {
   "cell_type": "code",
   "execution_count": null,
   "metadata": {},
   "outputs": [],
   "source": [
    "# These states have only 1 restaurant and very less reviews\n",
    "for s in [\"NC\",\"CO\",\"HI\",\"MT\",\"XMS\"]:\n",
    "    reviews_per_state.pop(s)"
   ]
  },
  {
   "cell_type": "code",
   "execution_count": null,
   "metadata": {},
   "outputs": [],
   "source": [
    "# Bar graph for number of reviews per state\n",
    "# This indicates the popularity of the state\n",
    "plot_bar_graph(reviews_per_state.values(), reviews_per_state.keys(), \"Popularity of States\", \"State\", \"No. of Reviews\")"
   ]
  },
  {
   "cell_type": "code",
   "execution_count": null,
   "metadata": {},
   "outputs": [],
   "source": [
    "# Average number of reviews per state\n",
    "avg_reviews_per_state = defaultdict(float)\n",
    "for s in reviews_per_state:\n",
    "    avg_reviews_per_state[s] = reviews_per_state[s]/len(restaurants_per_state[s])\n",
    "avg_reviews_per_state"
   ]
  },
  {
   "cell_type": "code",
   "execution_count": null,
   "metadata": {},
   "outputs": [],
   "source": [
    "# Popularity based on average number of reviews\n",
    "plot_bar_graph(avg_reviews_per_state.values(), avg_reviews_per_state.keys(), \"Popularity of States\", \"State\", \"Avg. No. of Reviews\", path=\"rev_state.jpg\")"
   ]
  },
  {
   "cell_type": "markdown",
   "metadata": {},
   "source": [
    "Since California is the most popular state, we will proceed with CA dataset"
   ]
  },
  {
   "cell_type": "markdown",
   "metadata": {},
   "source": []
  },
  {
   "cell_type": "markdown",
   "metadata": {},
   "source": [
    "Visualization for California State"
   ]
  },
  {
   "cell_type": "code",
   "execution_count": null,
   "metadata": {},
   "outputs": [],
   "source": [
    "ca_restaurant_data = restaurant_data.loc[restaurant_data[\"state\"] == \"CA\"].reset_index().drop(\"index\", axis=1)\n",
    "ca_restaurant_data.head(1)"
   ]
  },
  {
   "cell_type": "code",
   "execution_count": null,
   "metadata": {},
   "outputs": [],
   "source": [
    "# Number of reviews in California\n",
    "ca_restaurant_data[\"review_count\"].sum()"
   ]
  },
  {
   "cell_type": "code",
   "execution_count": null,
   "metadata": {},
   "outputs": [],
   "source": [
    "restaurants_per_city = defaultdict(set)\n",
    "rating_per_city = defaultdict(list)\n",
    "reviews_per_city = defaultdict(int)\n",
    "reviews_per_restaurant = defaultdict(int)\n",
    "ca_restaurants = []\n",
    "\n",
    "for i, d in ca_restaurant_data.iterrows():\n",
    "    c = d[\"city\"]\n",
    "    r = d[\"business_id\"]\n",
    "    rating = d[\"stars\"]\n",
    "    rc = d[\"review_count\"]\n",
    "    n = d[\"name\"]\n",
    "    restaurants_per_city[c].add(r)\n",
    "    rating_per_city[c].append(rating)\n",
    "    reviews_per_city[c] += rc\n",
    "    reviews_per_restaurant[n] += rc\n",
    "    ca_restaurants.append(r)"
   ]
  },
  {
   "cell_type": "code",
   "execution_count": null,
   "metadata": {},
   "outputs": [],
   "source": [
    "# 'Santa Barbara', 'Isla Vista', 'Goleta', 'Carpinteria', 'Montecito', 'Summerland', 'Santa  Barbara', 'Truckee'\n",
    "# Santa Barbara is repeated twice => Combining both\n",
    "for r in restaurants_per_city[\"Santa  Barbara\"]:\n",
    "    restaurants_per_city[\"Santa Barbara\"].add(r)\n",
    "restaurants_per_city.pop(\"Santa  Barbara\")\n",
    "\n",
    "# Truckee and Summerland have less than 10 restaurants => Combining both into one\n",
    "for c in [\"Summerland\", \"Truckee\"]:\n",
    "    for r in restaurants_per_city[c]:\n",
    "        restaurants_per_city[\"Other\"].add(r)\n",
    "    restaurants_per_city.pop(c)\n",
    "\n",
    "num_rest_per_city = [len(restaurants_per_city[c]) for c in restaurants_per_city]"
   ]
  },
  {
   "cell_type": "code",
   "execution_count": null,
   "metadata": {},
   "outputs": [],
   "source": [
    "# Pie chart for number of restaurants per city in CA\n",
    "plot_pie_chart(num_rest_per_city, restaurants_per_city.keys(), \"Percentage of Restaurants per City in CA\", path=\"res_city.jpg\")"
   ]
  },
  {
   "cell_type": "code",
   "execution_count": null,
   "metadata": {},
   "outputs": [],
   "source": [
    "# Bar graph for number of restaurants per city in CA\n",
    "plot_bar_graph(num_rest_per_city, restaurants_per_city.keys(), \"Number of Restaurants per City in CA\", \"City\", \"No. of Restaurants\")"
   ]
  },
  {
   "cell_type": "code",
   "execution_count": null,
   "metadata": {},
   "outputs": [],
   "source": [
    "# Santa Barbara is repeated twice => Combining both\n",
    "reviews_per_city[\"Santa Barbara\"] += reviews_per_city[\"Santa  Barbara\"]\n",
    "reviews_per_city.pop(\"Santa  Barbara\")\n",
    "\n",
    "# Truckee and Summerland have less than 10 restaurants => Combining both into one\n",
    "for c in [\"Summerland\", \"Truckee\"]:\n",
    "    reviews_per_city[\"Other\"] += reviews_per_city[c]\n",
    "    reviews_per_city.pop(c)"
   ]
  },
  {
   "cell_type": "code",
   "execution_count": null,
   "metadata": {},
   "outputs": [],
   "source": [
    "# Bar graph for number of reviews per city in CA\n",
    "# This indicates the popularity of the city\n",
    "plot_bar_graph(reviews_per_city.values(), reviews_per_city.keys(), \"Popularity of Cities in CA\", \"City\", \"No. of Reviews\")"
   ]
  },
  {
   "cell_type": "code",
   "execution_count": null,
   "metadata": {},
   "outputs": [],
   "source": [
    "# Average number of reviews per city\n",
    "avg_reviews_per_city = defaultdict(float)\n",
    "for c in reviews_per_city:\n",
    "    avg_reviews_per_city[c] = reviews_per_city[c]/len(restaurants_per_city[c])\n",
    "avg_reviews_per_city"
   ]
  },
  {
   "cell_type": "code",
   "execution_count": null,
   "metadata": {},
   "outputs": [],
   "source": [
    "# Popularity based on average number of reviews\n",
    "plot_bar_graph(avg_reviews_per_city.values(), avg_reviews_per_city.keys(), \"Popularity of Cities\", \"City\", \"Avg. No. of Reviews\")"
   ]
  },
  {
   "cell_type": "code",
   "execution_count": null,
   "metadata": {},
   "outputs": [],
   "source": [
    "# Get top 10 popular restaurants in CA based on number of reviews\n",
    "top_10_restaurants = {k: v for k, v in sorted(reviews_per_restaurant.items(), key=lambda item: item[1])[-10:]}"
   ]
  },
  {
   "cell_type": "code",
   "execution_count": null,
   "metadata": {},
   "outputs": [],
   "source": [
    "# Pie chart for number of reviews for top 10 restaurants at CA\n",
    "plot_pie_chart(top_10_restaurants.values(), top_10_restaurants.keys(), \"Popularity of Restaurants in CA\")"
   ]
  },
  {
   "cell_type": "code",
   "execution_count": null,
   "metadata": {},
   "outputs": [],
   "source": [
    "# Bar graph for number of reviews for top 10 restaurants at CA\n",
    "plot_barh_graph(top_10_restaurants.values(), list(top_10_restaurants.keys()), \"Popularity of Restaurants in CA\", \"Restaurants\", \"No. of Reviews\", 90, path=\"rev_rest.jpg\")"
   ]
  },
  {
   "cell_type": "markdown",
   "metadata": {},
   "source": []
  },
  {
   "cell_type": "markdown",
   "metadata": {},
   "source": [
    "Top Categories in CA"
   ]
  },
  {
   "cell_type": "code",
   "execution_count": null,
   "metadata": {},
   "outputs": [],
   "source": [
    "categories = defaultdict(int)\n",
    "ratings_per_category = defaultdict(list)\n",
    "for i, d in ca_restaurant_data.iterrows():\n",
    "    cats = d[\"categories\"].split(\",\")\n",
    "    r = d[\"stars\"]\n",
    "    for cat in cats:\n",
    "        cat = cat.strip()\n",
    "        categories[cat] += 1\n",
    "        ratings_per_category[cat].append(r)\n",
    "\n",
    "len(categories)"
   ]
  },
  {
   "cell_type": "code",
   "execution_count": null,
   "metadata": {},
   "outputs": [],
   "source": [
    "# Get top 10 most frequent categories\n",
    "top_10_categories = {k: v for k, v in sorted(categories.items(), key=lambda item: item[1])[-12:-2]}\n",
    "top_10_categories"
   ]
  },
  {
   "cell_type": "code",
   "execution_count": null,
   "metadata": {},
   "outputs": [],
   "source": [
    "# Pie chart for top 10 most frequent categories\n",
    "plot_pie_chart(top_10_categories.values(), top_10_categories.keys(), \"Top 10 Categories\")"
   ]
  },
  {
   "cell_type": "code",
   "execution_count": null,
   "metadata": {},
   "outputs": [],
   "source": [
    "# Bar graph for top 10 most frequent categories\n",
    "plot_bar_graph(top_10_categories.values(), top_10_categories.keys(), \"Top 10 Categories\", \"Category\", \"Frequency\", 90, path=\"pop_cat.jpg\")"
   ]
  },
  {
   "cell_type": "code",
   "execution_count": null,
   "metadata": {},
   "outputs": [],
   "source": [
    "# Average rating per category\n",
    "avg_rating_per_category = defaultdict(float)\n",
    "for cat in top_10_categories:\n",
    "    avg_rating_per_category[cat] = sum(ratings_per_category[cat])/len(ratings_per_category[cat])\n",
    "avg_rating_per_category"
   ]
  },
  {
   "cell_type": "code",
   "execution_count": null,
   "metadata": {},
   "outputs": [],
   "source": [
    "# Bar graph for the best category based on average rating\n",
    "plot_bar_graph(avg_rating_per_category.values(), avg_rating_per_category.keys(), \"Top 10 Categories\", \"Category\", \"Avg. Rating\", 90)"
   ]
  },
  {
   "cell_type": "markdown",
   "metadata": {},
   "source": []
  },
  {
   "cell_type": "markdown",
   "metadata": {},
   "source": [
    "Analysis for Review Dataset"
   ]
  },
  {
   "cell_type": "code",
   "execution_count": null,
   "metadata": {},
   "outputs": [],
   "source": [
    "review_data = review_data.reset_index()\n",
    "review_data = review_data[['review_id', 'user_id', 'business_id', 'stars', 'text']]\n",
    "review_data.head(1)"
   ]
  },
  {
   "cell_type": "code",
   "execution_count": null,
   "metadata": {},
   "outputs": [],
   "source": [
    "# Get reviews specific to CA restaurants\n",
    "ca_review_data = review_data.loc[review_data[\"business_id\"].isin(ca_restaurants)].reset_index().drop(\"index\", axis=1)\n",
    "ca_review_data.head(1)"
   ]
  },
  {
   "cell_type": "markdown",
   "metadata": {},
   "source": [
    "Reviews per User"
   ]
  },
  {
   "cell_type": "code",
   "execution_count": null,
   "metadata": {},
   "outputs": [],
   "source": [
    "rev_per_user = pd.DataFrame(ca_review_data.groupby(\"user_id\").size()).reset_index()\n",
    "rev_per_user.columns = [\"user_id\", \"count\"]\n",
    "# rev_per_user.head()\n",
    "\n",
    "# unique_users = rev_per_user.shape[0]\n",
    "rev_per_user.groupby(\"count\").size()"
   ]
  },
  {
   "cell_type": "markdown",
   "metadata": {},
   "source": [
    "Word Analysis"
   ]
  },
  {
   "cell_type": "code",
   "execution_count": null,
   "metadata": {},
   "outputs": [],
   "source": [
    "# Get the basic words in English\n",
    "stop_words = set(stopwords.words(\"english\"))"
   ]
  },
  {
   "cell_type": "code",
   "execution_count": null,
   "metadata": {},
   "outputs": [],
   "source": [
    "# Get the word count and ratings for each word for each review in CA review dataset\n",
    "word_count = defaultdict(int)\n",
    "ratings_per_word = defaultdict(list)\n",
    "\n",
    "for i, d in ca_review_data.iterrows():\n",
    "    text = d[\"text\"]\n",
    "    rating = d[\"stars\"]\n",
    "    text = text.translate(str.maketrans('', '', string.punctuation)).replace(\"\\n\",\"\").lower().split(\" \")\n",
    "    for word in text:\n",
    "        if word in stop_words:\n",
    "            continue\n",
    "        word_count[word] += 1\n",
    "        ratings_per_word[word].append(rating)\n",
    "\n",
    "word_count.pop(\"\")\n",
    "ratings_per_word.pop(\"\")\n",
    "len(word_count)"
   ]
  },
  {
   "cell_type": "code",
   "execution_count": null,
   "metadata": {},
   "outputs": [],
   "source": [
    "# Get the top 15 frequently used words\n",
    "top_15_words = {k: v for k, v in sorted(word_count.items(), key=lambda item: item[1])[-15:]}\n",
    "top_15_words"
   ]
  },
  {
   "cell_type": "code",
   "execution_count": null,
   "metadata": {},
   "outputs": [],
   "source": [
    "# Bar graph for the top 15 words based on frequency\n",
    "plot_bar_graph(top_15_words.values(), top_15_words.keys(), \"Top 15 Words\", \"Word\", \"Frequency\", 90)"
   ]
  },
  {
   "cell_type": "code",
   "execution_count": null,
   "metadata": {},
   "outputs": [],
   "source": [
    "# Average rating per word for top 15 words\n",
    "avg_rating_per_word = defaultdict(float)\n",
    "for word in top_15_words:\n",
    "    avg_rating_per_word[word] = sum(ratings_per_word[word])/len(ratings_per_word[word])\n",
    "avg_rating_per_word"
   ]
  },
  {
   "cell_type": "code",
   "execution_count": null,
   "metadata": {},
   "outputs": [],
   "source": [
    "# Bar graph for the top 15 words based on average rating\n",
    "plot_bar_graph(avg_rating_per_word.values(), avg_rating_per_word.keys(), \"Top 15 Words\", \"Word\", \"Avg. Rating\", 90)"
   ]
  },
  {
   "cell_type": "code",
   "execution_count": null,
   "metadata": {},
   "outputs": [],
   "source": [
    "# Average rating for each word\n",
    "avg_rating_per_word = defaultdict(float)\n",
    "for word in ratings_per_word:\n",
    "    avg_rating_per_word[word] = sum(ratings_per_word[word])/len(ratings_per_word[word])\n",
    "avg_rating_per_word"
   ]
  },
  {
   "cell_type": "code",
   "execution_count": null,
   "metadata": {},
   "outputs": [],
   "source": [
    "# Get the top 15 words based on average rating\n",
    "top_15_words = {k: v for k, v in sorted(avg_rating_per_word.items(), key=lambda item: item[1])[-15:]}\n",
    "top_15_words"
   ]
  },
  {
   "cell_type": "code",
   "execution_count": null,
   "metadata": {},
   "outputs": [],
   "source": [
    "# Get the bottom 15 words based on average rating\n",
    "bottom_15_words = {k: v for k, v in sorted(avg_rating_per_word.items(), key=lambda item: item[1])[:15]}\n",
    "bottom_15_words"
   ]
  },
  {
   "cell_type": "markdown",
   "metadata": {},
   "source": []
  },
  {
   "cell_type": "markdown",
   "metadata": {},
   "source": [
    "Word Cloud"
   ]
  },
  {
   "cell_type": "code",
   "execution_count": null,
   "metadata": {},
   "outputs": [],
   "source": [
    "# text = \" \".join(word_count.keys())\n",
    "\n",
    "# Creating word_cloud with text as argument in .generate() method\n",
    "# word_cloud = WordCloud(collocations = False, background_color = 'white').generate(text)\n",
    "\n",
    "wordcloud = WordCloud(background_color = 'white')\n",
    "wordcloud.generate_from_frequencies(frequencies=word_count)\n",
    "\n",
    "# Display the generated Word Cloud\n",
    "plt.imshow(wordcloud, interpolation='bilinear')\n",
    "plt.axis(\"off\")\n",
    "plt.show()"
   ]
  },
  {
   "cell_type": "markdown",
   "metadata": {},
   "source": []
  },
  {
   "cell_type": "markdown",
   "metadata": {},
   "source": [
    "Map Visualization"
   ]
  },
  {
   "cell_type": "code",
   "execution_count": null,
   "metadata": {},
   "outputs": [],
   "source": [
    "center_lat = ca_restaurant_data[\"latitude\"].mean(axis=0)\n",
    "center_lon = ca_restaurant_data[\"longitude\"].mean(axis=0)\n",
    "center_lat, center_lon"
   ]
  },
  {
   "cell_type": "code",
   "execution_count": null,
   "metadata": {},
   "outputs": [],
   "source": [
    "ca_restaurant_data['text'] = ca_restaurant_data['name'] + '' + ca_restaurant_data['city'] + ', ' + ca_restaurant_data['state'] + ', ' + 'Rating: ' + ca_restaurant_data['stars'].astype(str)\n",
    "\n",
    "fig = go.Figure(data=go.Scattergeo(\n",
    "        lon = ca_restaurant_data['longitude'],\n",
    "        lat = ca_restaurant_data['latitude'],\n",
    "        text = ca_restaurant_data['text'],\n",
    "        mode = 'markers',\n",
    "        marker_color = ca_restaurant_data['stars'],\n",
    "        ))\n",
    "\n",
    "fig.update_layout(\n",
    "        title = 'Restaurants in California',\n",
    "        geo = dict(\n",
    "            scope='usa',\n",
    "            projection_type='albers usa',\n",
    "            showland = True\n",
    "        )\n",
    "    )\n",
    "# fig.write_html(\"restaurants.html\")\n",
    "# fig.show()\n",
    "fig.update_layout(\n",
    "        title_text = \"Restaurant ratings in CA<br>(Click legend to toggle traces)\",\n",
    "        # showlegend = True,\n",
    "        geo = dict(\n",
    "            projection_scale=70, #this is kind of like zoom\n",
    "            center=dict(lat=center_lat, lon=center_lon), # this will center on the point\n",
    "        ))\n",
    "fig.write_html(\"restaurants.html\")"
   ]
  },
  {
   "cell_type": "code",
   "execution_count": null,
   "metadata": {},
   "outputs": [],
   "source": [
    "# geojson = px.data.election_geojson()\n",
    "\n",
    "# fig = px.choropleth_mapbox(ca_restaurant_data, geojson=geojson,\n",
    "#                            locations=\"city\", center={\"lat\": center_lat, \"lon\": center_lon},\n",
    "#                            mapbox_style=\"carto-positron\", zoom=9)\n",
    "# fig.update_layout(margin={\"r\":0,\"t\":0,\"l\":0,\"b\":0})\n",
    "# fig.write_html(\"restaurants.html\")\n",
    "# # fig.show()"
   ]
  }
 ],
 "metadata": {
  "kernelspec": {
   "display_name": "Python 3",
   "language": "python",
   "name": "python3"
  },
  "language_info": {
   "codemirror_mode": {
    "name": "ipython",
    "version": 3
   },
   "file_extension": ".py",
   "mimetype": "text/x-python",
   "name": "python",
   "nbconvert_exporter": "python",
   "pygments_lexer": "ipython3",
   "version": "3.10.11"
  }
 },
 "nbformat": 4,
 "nbformat_minor": 2
}
