{
 "cells": [
  {
   "cell_type": "code",
   "execution_count": null,
   "metadata": {},
   "outputs": [],
   "source": [
    "from collections import defaultdict\n",
    "import pandas as pd\n",
    "import plotly.graph_objects as go\n",
    "import matplotlib.pyplot as plt\n",
    "import numpy as np\n",
    "import string, nltk\n",
    "from nltk.corpus import stopwords\n",
    "from wordcloud import WordCloud, STOPWORDS\n",
    "import plotly.express as px\n",
    "from nltk.sentiment import SentimentIntensityAnalyzer\n",
    "from nltk import bigrams, ngrams, word_tokenize"
   ]
  },
  {
   "cell_type": "code",
   "execution_count": null,
   "metadata": {},
   "outputs": [],
   "source": [
    "restaurant_file = \"final_data_restaurant_yelp.gzip\"\n",
    "user_file = \"final_data_user_yelp.gzip\"\n",
    "review_file = \"final_data_review_yelp-001.gzip\""
   ]
  },
  {
   "cell_type": "code",
   "execution_count": null,
   "metadata": {},
   "outputs": [],
   "source": [
    "restaurant_data = pd.read_pickle(restaurant_file)\n",
    "# user_data = pd.read_pickle(user_file)\n",
    "review_data = pd.read_pickle(review_file)"
   ]
  },
  {
   "cell_type": "code",
   "execution_count": null,
   "metadata": {},
   "outputs": [],
   "source": [
    "# ca_rest = restaurant_data.loc[restaurant_data[\"state\"] == \"CA\"]\n",
    "# ca_rest.shape"
   ]
  },
  {
   "cell_type": "code",
   "execution_count": null,
   "metadata": {},
   "outputs": [],
   "source": [
    "merged_df = restaurant_data.loc[restaurant_data[\"state\"] == \"CA\"].merge(review_data, on=\"business_id\")\n",
    "merged_df.head()"
   ]
  },
  {
   "cell_type": "code",
   "execution_count": null,
   "metadata": {},
   "outputs": [],
   "source": [
    "star1_text = \" \".join(merged_df[merged_df[\"stars_y\"] == 1][\"text\"])\n",
    "star5_text = \" \".join(merged_df[merged_df[\"stars_y\"] == 5][\"text\"])"
   ]
  },
  {
   "cell_type": "code",
   "execution_count": null,
   "metadata": {},
   "outputs": [],
   "source": [
    "# # Perform sentiment analysis using VADER\n",
    "# sid = SentimentIntensityAnalyzer()\n",
    "# merged_df['compound'] = merged_df['text'].apply(lambda x: sid.polarity_scores(x)['compound'])\n",
    "\n",
    "# # Classify as positive or negative based on compound score\n",
    "# merged_df['sentiment'] = merged_df['compound'].apply(lambda x: 'positive' if x >= 0 else 'negative')\n",
    "\n",
    "# pos = ' '.join(merged_df[merged_df['sentiment'] == 'positive']['text'])\n",
    "# neg = ' '.join(merged_df[merged_df['sentiment'] == 'negative']['text'])"
   ]
  },
  {
   "cell_type": "code",
   "execution_count": null,
   "metadata": {},
   "outputs": [],
   "source": [
    "# pos = pos.translate(str.maketrans('', '', string.punctuation)).replace(\"\\n\",\"\")\n",
    "# neg = neg.translate(str.maketrans('', '', string.punctuation)).replace(\"\\n\",\"\")"
   ]
  },
  {
   "cell_type": "code",
   "execution_count": null,
   "metadata": {},
   "outputs": [],
   "source": [
    "# # Tokenize and extract bigrams for positive and negative reviews\n",
    "# positive_reviews_bigrams = list(ngrams(pos, 2))\n",
    "# negative_reviews_bigrams = list(ngrams(neg, 2))"
   ]
  },
  {
   "cell_type": "code",
   "execution_count": null,
   "metadata": {},
   "outputs": [],
   "source": [
    "# pos1 = defaultdict(int)\n",
    "# for each in positive_reviews_bigrams:\n",
    "#     if \"\" in each:\n",
    "#         continue\n",
    "#     pos1[each] += 1"
   ]
  },
  {
   "cell_type": "code",
   "execution_count": null,
   "metadata": {},
   "outputs": [],
   "source": [
    "# Generate WordCloud for positive reviews\n",
    "wordcloud_positive = WordCloud(width=800, height=400, background_color='white').generate(star5_text)\n",
    "plt.figure(figsize=(10, 5))\n",
    "plt.imshow(wordcloud_positive, interpolation='bilinear')\n",
    "# plt.title('WordCloud for Positive Reviews', fontsize=20)\n",
    "plt.axis('off')\n",
    "plt.savefig(\"stars5_uni.jpg\")\n",
    "plt.show()"
   ]
  },
  {
   "cell_type": "code",
   "execution_count": null,
   "metadata": {},
   "outputs": [],
   "source": [
    "# Generate WordCloud for negative reviews\n",
    "wordcloud_negative = WordCloud(width=800, height=400, background_color='white').generate(star1_text)\n",
    "plt.figure(figsize=(10, 5))\n",
    "plt.imshow(wordcloud_negative, interpolation='bilinear')\n",
    "# plt.title('WordCloud for Negative Reviews', fontsize=20)\n",
    "plt.axis('off')\n",
    "plt.savefig(\"stars1_uni.jpg\")\n",
    "plt.show()"
   ]
  },
  {
   "cell_type": "code",
   "execution_count": null,
   "metadata": {},
   "outputs": [],
   "source": [
    "def get_ngrams(text, n=2):\n",
    "    text = str(text)\n",
    "    n_grams = ngrams(text.split(), n)\n",
    "    returnVal = defaultdict(int)\n",
    "    \n",
    "    try:\n",
    "        for grams in n_grams:\n",
    "            # if \"\" in grams:\n",
    "            #     continue\n",
    "            returnVal[' '.join(grams)] += 1\n",
    "    except(RuntimeError):\n",
    "        pass\n",
    "        \n",
    "    return returnVal"
   ]
  },
  {
   "cell_type": "code",
   "execution_count": null,
   "metadata": {},
   "outputs": [],
   "source": [
    "# Get the basic words in English\n",
    "stop_words = set(stopwords.words(\"english\"))\n",
    "temp = star1_text.translate(str.maketrans('', '', string.punctuation)).replace(\"\\n\",\"\").lower().split(\" \")\n",
    "star1_text = \"\"\n",
    "for word in temp:\n",
    "    if word in stop_words:\n",
    "        continue\n",
    "    star1_text += \" \" + word\n",
    "# star5_text = star5_text.translate(str.maketrans('', '', string.punctuation)).replace(\"\\n\",\"\").lower().split(\" \")\n",
    "temp = star5_text.translate(str.maketrans('', '', string.punctuation)).replace(\"\\n\",\"\").lower().split(\" \")\n",
    "star5_text = \"\"\n",
    "for word in temp:\n",
    "    if word in stop_words:\n",
    "        continue\n",
    "    star5_text += \" \" + word"
   ]
  },
  {
   "cell_type": "code",
   "execution_count": null,
   "metadata": {},
   "outputs": [],
   "source": [
    "star1_text_bi = get_ngrams(star1_text, 2)\n",
    "star1_text_bi"
   ]
  },
  {
   "cell_type": "code",
   "execution_count": null,
   "metadata": {},
   "outputs": [],
   "source": [
    "star5_text_bi = get_ngrams(star5_text, 2)\n",
    "star5_text_bi"
   ]
  },
  {
   "cell_type": "code",
   "execution_count": null,
   "metadata": {},
   "outputs": [],
   "source": [
    "# Generate WordCloud for positive bigrams\n",
    "wordcloud_positive_bigrams = WordCloud(stopwords = STOPWORDS,\n",
    "                            background_color = 'white',\n",
    "                            width=800, height=400,\n",
    "                            ).generate_from_frequencies(star5_text_bi)\n",
    "plt.figure(figsize=(10, 5))\n",
    "plt.imshow(wordcloud_positive_bigrams, interpolation='bilinear')\n",
    "# plt.title('Bigram WordCloud for Positive Reviews', fontsize=20)\n",
    "plt.axis('off')\n",
    "plt.savefig(\"stars5_bi.jpg\")\n",
    "plt.show()\n",
    "\n",
    "# Generate WordCloud for negative bigrams\n",
    "# wordcloud_negative_bigrams = WordCloud(width=800, height=400, background_color='white').generate_from_frequencies(dict(negative_reviews_bigrams))\n",
    "# plt.figure(figsize=(10, 5))\n",
    "# plt.imshow(wordcloud_negative_bigrams, interpolation='bilinear')\n",
    "# plt.title('Bigram WordCloud for Negative Reviews')\n",
    "# plt.axis('off')\n",
    "# plt.show()\n"
   ]
  },
  {
   "cell_type": "code",
   "execution_count": null,
   "metadata": {},
   "outputs": [],
   "source": [
    "# Generate WordCloud for negative bigrams\n",
    "wordcloud_positive_bigrams = WordCloud(stopwords = STOPWORDS,\n",
    "                            background_color = 'white',\n",
    "                            width=800, height=400,\n",
    "                            ).generate_from_frequencies(star1_text_bi)\n",
    "plt.figure(figsize=(10, 5))\n",
    "plt.imshow(wordcloud_positive_bigrams, interpolation='bilinear')\n",
    "# plt.title('Bigram WordCloud for Positive Reviews', fontsize=20)\n",
    "plt.axis('off')\n",
    "plt.savefig(\"stars1_bi.jpg\")\n",
    "plt.show()"
   ]
  },
  {
   "cell_type": "code",
   "execution_count": null,
   "metadata": {},
   "outputs": [],
   "source": [
    "star5_text_tri = get_ngrams(star5_text, 3)\n",
    "star1_text_tri = get_ngrams(star1_text, 3)"
   ]
  },
  {
   "cell_type": "code",
   "execution_count": null,
   "metadata": {},
   "outputs": [],
   "source": [
    "wordcloud_positive_bigrams = WordCloud(stopwords = STOPWORDS,\n",
    "                            background_color = 'white',\n",
    "                            width=800, height=400,\n",
    "                            ).generate_from_frequencies(star5_text_tri)\n",
    "plt.figure(figsize=(10, 5))\n",
    "plt.imshow(wordcloud_positive_bigrams, interpolation='bilinear')\n",
    "# plt.title('Bigram WordCloud for Positive Reviews', fontsize=20)\n",
    "plt.axis('off')\n",
    "plt.savefig(\"stars5_tri.jpg\")\n",
    "plt.show()"
   ]
  },
  {
   "cell_type": "code",
   "execution_count": null,
   "metadata": {},
   "outputs": [],
   "source": [
    "# Generate WordCloud for negative bigrams\n",
    "wordcloud_positive_bigrams = WordCloud(stopwords = STOPWORDS,\n",
    "                            background_color = 'white',\n",
    "                            width=800, height=400,\n",
    "                            ).generate_from_frequencies(star1_text_tri)\n",
    "plt.figure(figsize=(10, 5))\n",
    "plt.imshow(wordcloud_positive_bigrams, interpolation='bilinear')\n",
    "# plt.title('Bigram WordCloud for Positive Reviews', fontsize=20)\n",
    "plt.axis('off')\n",
    "plt.savefig(\"stars1_tri.jpg\")\n",
    "plt.show()"
   ]
  },
  {
   "cell_type": "code",
   "execution_count": null,
   "metadata": {},
   "outputs": [],
   "source": [
    "def plot_pie_chart(values, labels, title=\"\", path=\"\"):\n",
    "    fig = plt.subplots(figsize=(8, 8))\n",
    "    plt.pie(values, labels = labels)\n",
    "    # plt.title(title, fontsize=20)\n",
    "    if path:\n",
    "        plt.savefig(path, bbox_inches = 'tight')\n",
    "    plt.show()"
   ]
  },
  {
   "cell_type": "code",
   "execution_count": null,
   "metadata": {},
   "outputs": [],
   "source": [
    "ratings = pd.DataFrame(merged_df.groupby(\"stars_y\").size()).reset_index()\n",
    "ratings[\"label\"] = \"Rating \" + ratings[\"stars_y\"].astype(str)\n",
    "ratings"
   ]
  },
  {
   "cell_type": "code",
   "execution_count": null,
   "metadata": {},
   "outputs": [],
   "source": [
    "ratings[0].values"
   ]
  },
  {
   "cell_type": "code",
   "execution_count": null,
   "metadata": {},
   "outputs": [],
   "source": [
    "plot_pie_chart(ratings[0].values, ratings[\"label\"].values,path=\"rev_rat.jpg\")"
   ]
  }
 ],
 "metadata": {
  "kernelspec": {
   "display_name": "Python 3",
   "language": "python",
   "name": "python3"
  },
  "language_info": {
   "codemirror_mode": {
    "name": "ipython",
    "version": 3
   },
   "file_extension": ".py",
   "mimetype": "text/x-python",
   "name": "python",
   "nbconvert_exporter": "python",
   "pygments_lexer": "ipython3",
   "version": "3.10.11"
  }
 },
 "nbformat": 4,
 "nbformat_minor": 2
}
